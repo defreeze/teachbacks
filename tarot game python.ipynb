{
 "cells": [
  {
   "cell_type": "code",
   "execution_count": 27,
   "id": "3c29744d",
   "metadata": {},
   "outputs": [],
   "source": [
    "import random\n",
    "import openai\n",
    "import os\n",
    "os.environ[\"OPENAI_API_KEY\"] = 'API_KEY_HERE'"
   ]
  },
  {
   "cell_type": "code",
   "execution_count": 30,
   "id": "380fb99b",
   "metadata": {},
   "outputs": [],
   "source": [
    "def generate_response(prompt):\n",
    "    response = openai.Completion.create(\n",
    "        engine=\"text-davinci-003\",\n",
    "        prompt=prompt,\n",
    "        max_tokens=4035 ,\n",
    "        n=1,\n",
    "        stop=None,\n",
    "        temperature=1,\n",
    "    )\n",
    "    return response.choices[0].text.strip()"
   ]
  },
  {
   "cell_type": "code",
   "execution_count": 7,
   "id": "71a5c708",
   "metadata": {},
   "outputs": [],
   "source": [
    "# Define the cards in the deck\n",
    "cards = [\n",
    "    \"The Fool\", \"The Magician\", \"The High Priestess\", \"The Empress\", \"The Emperor\",\n",
    "    \"The Hierophant\", \"The Lovers\", \"The Chariot\", \"Strength\", \"The Hermit\",\n",
    "    \"Wheel of Fortune\", \"Justice\", \"The Hanged Man\", \"Death\", \"Temperance\",\n",
    "    \"The Devil\", \"The Tower\", \"The Star\", \"The Moon\", \"The Sun\",\n",
    "    \"Judgement\", \"The World\",\n",
    "    \"Ace of Wands\", \"Two of Wands\", \"Three of Wands\", \"Four of Wands\", \"Five of Wands\",\n",
    "    \"Six of Wands\", \"Seven of Wands\", \"Eight of Wands\", \"Nine of Wands\", \"Ten of Wands\",\n",
    "    \"Page of Wands\", \"Knight of Wands\", \"Queen of Wands\", \"King of Wands\",\n",
    "    \"Ace of Cups\", \"Two of Cups\", \"Three of Cups\", \"Four of Cups\", \"Five of Cups\",\n",
    "    \"Six of Cups\", \"Seven of Cups\", \"Eight of Cups\", \"Nine of Cups\", \"Ten of Cups\",\n",
    "    \"Page of Cups\", \"Knight of Cups\", \"Queen of Cups\", \"King of Cups\",\n",
    "    \"Ace of Swords\", \"Two of Swords\", \"Three of Swords\", \"Four of Swords\", \"Five of Swords\",\n",
    "    \"Six of Swords\", \"Seven of Swords\", \"Eight of Swords\", \"Nine of Swords\", \"Ten of Swords\",\n",
    "    \"Page of Swords\", \"Knight of Swords\", \"Queen of Swords\", \"King of Swords\",\n",
    "    \"Ace of Pentacles\", \"Two of Pentacles\", \"Three of Pentacles\", \"Four of Pentacles\", \"Five of Pentacles\",\n",
    "    \"Six of Pentacles\", \"Seven of Pentacles\", \"Eight of Pentacles\", \"Nine of Pentacles\", \"Ten of Pentacles\",\n",
    "    \"Page of Pentacles\", \"Knight of Pentacles\", \"Queen of Pentacles\", \"King of Pentacles\"\n",
    "]"
   ]
  },
  {
   "cell_type": "code",
   "execution_count": 33,
   "id": "6a2007cb",
   "metadata": {},
   "outputs": [
    {
     "name": "stdout",
     "output_type": "stream",
     "text": [
      "Tell me your self given name (or type 'stop'): Alex de Vries\n",
      "Pick your tarot reading type Alex de Vries: \n",
      " 1 Understanding a Situation. \n",
      " 2 Make a Descision. \n",
      " 3 Standard past/present/future. \n",
      " 1\n",
      "Dear Alex de Vries, here is your reading, keep your situation in mind.\n",
      "Current situation:  The Hanged Man\n",
      "Obstacle:  Page of Pentacles\n",
      "Advice:  Page of Cups\n",
      "~~~~ considering the cards ~~~~\n",
      "The Hanged Man: This card shows a person suspended in midair, looking toward the sky, seemingly contemplating their situation but very still and accepting. This card symbolizes a moment of pause, where one must surrender to the situation and find new meaning.\n",
      "\n",
      "Page of Pentacles: This card speaks of patience, a young figure sits with a pentacle in hand, a symbol of both physical and spiritual wealth. This card encourages us to take our time, consider our options and make wise investments in our own lives.\n",
      "\n",
      "Page of Cups: Here we find a youth intently looking into a cup, a symbol of the feelings and intuitions he is currently seeking. This card invites us to explore our own emotions and feel into the possibilities open to us.\n",
      "\n",
      "The combined message of these three cards highlights the importance of taking a moment to pause and consider our options. We are advised to listen to our intuition and use our own wisdom to make decisions that will benefit us and bring us greater wealth both materially and spiritually. We must take the time to reflect on our innermost feelings and gain clarity on our current path.\n",
      "Tell me your self given name (or type 'stop'): Alex\n",
      "Pick your tarot reading type Alex: \n",
      " 1 Understanding a Situation. \n",
      " 2 Make a Descision. \n",
      " 3 Standard past/present/future. \n",
      " 1\n",
      "Dear Alex, here is your reading, keep your situation in mind.\n",
      "Current situation:  Three of Swords\n",
      "Obstacle:  Ten of Pentacles\n",
      "Advice:  Five of Pentacles\n",
      "~~~~ considering the cards ~~~~\n",
      "Three of Swords: A heart pierced by three swords symbolizing emotional pain, discomfort and sorrow.\n",
      "Ten of Pentacles: A family basking in a peaceful and prosperous environment, denoting plenty and stability.\n",
      "Five of Pentacles: A figure in tattered clothes walking past a church, signifying feeling disconnected and struggling financially.\n",
      "\n",
      "The collective energy of the Three of Swords, Ten of Pentacles and the Five of Pentacles is urging you to be mindful of the delicate balance between your spiritual and financial realms. There has been a recent experience of psychological strife, most likely caused by a situation in which your values have been challenged; use this as an opportunity to be honest with yourself and evaluate your choices. Although it feels isolating and as if you have nothing to show for your efforts, think of this as a chance to dive in deep and come out the other side with renewed faith. With a little patience and guidance from your inner wisdom, you are about to unlock newfound safety and stability.\n",
      "Tell me your self given name (or type 'stop'): stop\n"
     ]
    }
   ],
   "source": [
    "while True:\n",
    "    user_input = input(\"Tell me your self given name (or type 'stop'): \")\n",
    "    if user_input == 'stop':\n",
    "        break\n",
    "    user_input_choice = input(f\"Pick your tarot reading type {user_input}: \\n 1 Understanding a Situation. \\n 2 Make a Descision. \\n 3 Standard past/present/future. \\n \")\n",
    "\n",
    "    past_card = random.choice(cards)\n",
    "    cards.remove(past_card)\n",
    "\n",
    "    present_card = random.choice(cards)\n",
    "    cards.remove(present_card)\n",
    "\n",
    "    future_card = random.choice(cards)\n",
    "    cards.remove(future_card)\n",
    "    \n",
    "    openai.api_key = os.environ[\"OPENAI_API_KEY\"]\n",
    "    prompt = f\"Give a mystical tarot reading with first a two sentence description of each card and then a three sentence summary of all cards combined: {past_card}, {present_card}, {future_card}\"\n",
    "    \n",
    "    # Print the drawn cards\n",
    "    if user_input_choice == '1':   \n",
    "        print(f\"Dear {user_input}, here is your reading, keep your situation in mind.\")\n",
    "        print(\"Current situation: \", past_card)\n",
    "        print(\"Obstacle: \", present_card)\n",
    "        print(\"Advice: \", future_card)\n",
    "        print('~~~~ considering the cards ~~~~')\n",
    "        txt = generate_response(prompt)\n",
    "        print(f'{txt}')\n",
    "    elif user_input_choice == '2':\n",
    "        print(f\"Dear {user_input}, here is your reading, keep your descision to make in mind.\")\n",
    "        print(\"Opportunities: \", past_card)\n",
    "        print(\"Challenges: \", present_card)\n",
    "        print(\"Outcome: \", future_card)\n",
    "        print('~~~~ considering the cards ~~~~')   \n",
    "        txt = generate_response(prompt)\n",
    "        print(f'{txt}')\n",
    "    else:\n",
    "        print(f\"Dear {user_input}, here is your reading.\")\n",
    "        print(\"Past: \", past_card)\n",
    "        print(\"Present: \", present_card)\n",
    "        print(\"Future: \", future_card)\n",
    "        print('~~~~ considering the cards ~~~~')\n",
    "        txt = generate_response(prompt)\n",
    "        print(f'{txt}')"
   ]
  },
  {
   "cell_type": "code",
   "execution_count": null,
   "id": "8dc084b6",
   "metadata": {},
   "outputs": [],
   "source": []
  }
 ],
 "metadata": {
  "kernelspec": {
   "display_name": "Python 3 (ipykernel)",
   "language": "python",
   "name": "python3"
  },
  "language_info": {
   "codemirror_mode": {
    "name": "ipython",
    "version": 3
   },
   "file_extension": ".py",
   "mimetype": "text/x-python",
   "name": "python",
   "nbconvert_exporter": "python",
   "pygments_lexer": "ipython3",
   "version": "3.8.3"
  }
 },
 "nbformat": 4,
 "nbformat_minor": 5
}
