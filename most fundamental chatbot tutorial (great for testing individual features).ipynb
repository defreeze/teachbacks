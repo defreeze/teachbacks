{
 "cells": [
  {
   "cell_type": "markdown",
   "id": "eb570f6d",
   "metadata": {},
   "source": [
    "# most fundamental chatbot tutorial (great for testing individual features)\n",
    "This page will describe how to build a very basic chatbot that will enable you to test basic features. This is useful for forinstance coreference resolution, making sure the feature actually works."
   ]
  },
  {
   "cell_type": "code",
   "execution_count": 3,
   "id": "251b5e96",
   "metadata": {},
   "outputs": [
    {
     "ename": "ModuleNotFoundError",
     "evalue": "No module named 'neuralcoref'",
     "output_type": "error",
     "traceback": [
      "\u001b[1;31m---------------------------------------------------------------------------\u001b[0m",
      "\u001b[1;31mModuleNotFoundError\u001b[0m                       Traceback (most recent call last)",
      "\u001b[1;32m~\\AppData\\Local\\Temp\\ipykernel_15484\\4033857419.py\u001b[0m in \u001b[0;36m<module>\u001b[1;34m\u001b[0m\n\u001b[0;32m      1\u001b[0m \u001b[1;31m# required libraries\u001b[0m\u001b[1;33m\u001b[0m\u001b[1;33m\u001b[0m\u001b[1;33m\u001b[0m\u001b[0m\n\u001b[0;32m      2\u001b[0m \u001b[1;32mimport\u001b[0m \u001b[0mspacy\u001b[0m\u001b[1;33m\u001b[0m\u001b[1;33m\u001b[0m\u001b[0m\n\u001b[1;32m----> 3\u001b[1;33m \u001b[1;32mimport\u001b[0m \u001b[0mneuralcoref\u001b[0m\u001b[1;33m\u001b[0m\u001b[1;33m\u001b[0m\u001b[0m\n\u001b[0m\u001b[0;32m      4\u001b[0m \u001b[1;33m\u001b[0m\u001b[0m\n\u001b[0;32m      5\u001b[0m \u001b[1;31m# displacy is not required, but very useful for visualizing results.\u001b[0m\u001b[1;33m\u001b[0m\u001b[1;33m\u001b[0m\u001b[1;33m\u001b[0m\u001b[0m\n",
      "\u001b[1;31mModuleNotFoundError\u001b[0m: No module named 'neuralcoref'"
     ]
    }
   ],
   "source": [
    "# required libraries\n",
    "import spacy\n",
    "import neuralcoref\n",
    "\n",
    "# displacy is not required, but very useful for visualizing results.\n",
    "from spacy import displacy"
   ]
  },
  {
   "cell_type": "markdown",
   "id": "d1fbad3d",
   "metadata": {},
   "source": [
    "## potential issues installing spaCy and neuralcoref\n",
    "neuralcoref and spaCy are libraries that are still in development. Although they can be used in production, we need good version control to make sure they work well together.\n",
    "\n",
    "- good guide on installing neuralcoref: https://sunil-guglani.medium.com/a-quick-guide-to-installing-neuralcoref-python-library-90d3c341aaa1\n",
    "- tip: install neuralcoref from source: https://github.com/huggingface/neuralcoref\n",
    "\n",
    "tip: install both the English and your desired language model for testing\n",
    "- python -m spacy download en_core_web_md\n",
    "- python -m spacy download nl_core_news_lg\n",
    "\n",
    "### things to check:\n",
    "- make sure spacy == 2.x if you use a v2.x language model\n",
    "- make sure visual C++ sdk is installed: https://visualstudio.microsoft.com/visual-cpp-build-tools/\n",
    "- make sure visual C++ 14 or higher is installed:https://learn.microsoft.com/en-US/cpp/windows/latest-supported-vc-redist?view=msvc-170\n",
    "\n",
    "### most valuable docs:\n",
    "- neurcoref intro: https://reposhub.com/python/deep-learning/huggingface-neuralcoref.html\n",
    "- research doc i want: https://www.researchgate.net/figure/Results-from-NeuralCoref-with-our-example_fig1_346306093\n",
    "- Great intro to coreference: explosion.ai/blog/coref\n",
    "- example chatbot with neuralcoref: https://www.kaggle.com/code/wangmo/neuralcoref-jeff-demo"
   ]
  },
  {
   "cell_type": "code",
   "execution_count": 2,
   "id": "61e36958",
   "metadata": {},
   "outputs": [
    {
     "ename": "SyntaxError",
     "evalue": "invalid syntax (1400255882.py, line 2)",
     "output_type": "error",
     "traceback": [
      "\u001b[1;36m  File \u001b[1;32m\"C:\\Users\\alexd\\AppData\\Local\\Temp\\ipykernel_15484\\1400255882.py\"\u001b[1;36m, line \u001b[1;32m2\u001b[0m\n\u001b[1;33m    git clone https://github.com/huggingface/neuralcoref.git\u001b[0m\n\u001b[1;37m            ^\u001b[0m\n\u001b[1;31mSyntaxError\u001b[0m\u001b[1;31m:\u001b[0m invalid syntax\n"
     ]
    }
   ],
   "source": [
    "# how to install neuralcoref from source\n",
    "git clone https://github.com/huggingface/neuralcoref.git\n",
    "cd neuralcoref\n",
    "pip install -r requirements.txt\n",
    "pip install neuralcoref --no-binary neuralcoref\n",
    "python setup.py build_ext --inplace\n",
    "pip install -e .\n",
    "python -m spacy download en_core_web_sm"
   ]
  },
  {
   "cell_type": "code",
   "execution_count": null,
   "id": "45506815",
   "metadata": {},
   "outputs": [],
   "source": [
    "def answerEnglish(question):\n",
    "    print('Question: ', question)\n",
    "    global session_context\n",
    "    start_pos = len(session_context)\n",
    "    session_context += (question + \" \")\n",
    "    print(\"context:\",session_context)\n",
    "    if question in QA: \n",
    "        return QA[question]\n",
    "    else:\n",
    "        doc = nlp(session_context)\n",
    "        if doc._.has_coref:\n",
    "            print(\"core_clusters\", doc._.coref_clusters)\n",
    "            to_replace = []\n",
    "            for clust in doc._.coref_clusters:\n",
    "                main_mention = clust.main\n",
    "                for mention in clust.mentions:\n",
    "                    beg, end = mention.start_char - start_pos, mention.end_char - start_pos\n",
    "                    print(\"end: \", end)\n",
    "                    if end > 0:                                     \n",
    "                        if mention.text in [\"its\",\"his\",\"her\",\"my\",\"your\",\"our\",\"their\"]:\n",
    "                            to_replace.append((beg,end,main_mention.text+\"'s\"))\n",
    "                        else:\n",
    "                            to_replace.append((beg,end,main_mention.text))\n",
    "            to_replace = sorted(to_replace)                         \n",
    "            print(\"to_replace:\", to_replace)\n",
    "            question2 = my_coref(question,to_replace)\n",
    "            print(\"Coreferenced question:\",question2)\n",
    "            if question2 in QA:\n",
    "                return QA[question2]\n",
    "        return \"I don't know.\"\n",
    "\n",
    "def my_coref(orig_text, to_replace):\n",
    "    left = 0\n",
    "    processed_text = \"\"\n",
    "    for beg,end,mention in to_replace:\n",
    "        processed_text += orig_text[left:beg] + mention\n",
    "        left = end\n",
    "    processed_text += orig_text[left:]\n",
    "    return processed_text"
   ]
  },
  {
   "cell_type": "code",
   "execution_count": null,
   "id": "bc717cc9",
   "metadata": {},
   "outputs": [],
   "source": [
    "# load the answerEnglish and mycoref functions before these four lines\n",
    "session_context = \"\"\n",
    "answerEnglish(\"Who is Abraham?\")\n",
    "answerEnglish(\"When was he born?\")"
   ]
  }
 ],
 "metadata": {
  "kernelspec": {
   "display_name": "Python 3 (ipykernel)",
   "language": "python",
   "name": "python3"
  },
  "language_info": {
   "codemirror_mode": {
    "name": "ipython",
    "version": 3
   },
   "file_extension": ".py",
   "mimetype": "text/x-python",
   "name": "python",
   "nbconvert_exporter": "python",
   "pygments_lexer": "ipython3",
   "version": "3.7.4"
  }
 },
 "nbformat": 4,
 "nbformat_minor": 5
}
