{
 "cells": [
  {
   "cell_type": "code",
   "execution_count": 12,
   "id": "31587e62",
   "metadata": {},
   "outputs": [],
   "source": [
    "# https://www.kaggle.com/datasets/tovarischsukhov/southparklines\n",
    "# import libraries\n",
    "import spacy\n",
    "import random\n",
    "nlp = spacy.load(\"en_core_web_md\")\n",
    "from spacy.matcher import Matcher\n",
    "import syllapy\n"
   ]
  },
  {
   "cell_type": "code",
   "execution_count": 18,
   "id": "1c72c12a",
   "metadata": {},
   "outputs": [],
   "source": [
    "f = open('cartman_txt.txt', 'r')\n",
    "data = f.read()\n",
    "f.close()"
   ]
  },
  {
   "cell_type": "code",
   "execution_count": 46,
   "id": "24e81229",
   "metadata": {},
   "outputs": [],
   "source": [
    "# 2 words\n",
    "match2words = Matcher(nlp.vocab)\n",
    "pattern = [{\"POS\":{\"IN\": [\"NOUN\", \"ADV\", \"ADJ\", \"ADP\"]}},\n",
    "           {\"POS\":{\"IN\": [\"VERB\", \"NOUN\"]}}]\n",
    "match2words.add(\"2words\", [pattern])\n",
    "\n",
    "# 3 words\n",
    "match3words = Matcher(nlp.vocab)\n",
    "pattern = [{\"POS\":{\"IN\": [\"NOUN\", \"ADV\", \"ADJ\", \"VERB\", \"ADP\"]}},\n",
    "            {\"POS\":{\"IN\": [\"VERB\", \"NOUN\"]}},\n",
    "           {\"POS\":{\"IN\": [\"VERB\", \"NOUN\", \"ADV\", \"ADJ\"]}}]\n",
    "match3words.add(\"3words\", [pattern])\n",
    "\n",
    "# 4 words\n",
    "match4words = Matcher(nlp.vocab)\n",
    "pattern = [{\"POS\":{\"IN\": [\"NOUN\", \"ADV\", \"ADJ\", \"VERB\", \"ADP\"]}},\n",
    "           {\"IS_ASCII\": True, \"IS_PUNCT\": False},\n",
    "           {\"IS_ASCII\": True, \"IS_PUNCT\": False},\n",
    "           {\"POS\":{\"IN\": [\"VERB\", \"NOUN\", \"ADV\", \"ADJ\"]}}]\n",
    "match4words.add(\"4words\", [pattern])\n",
    "\n",
    "match5words = Matcher(nlp.vocab)\n",
    "pattern = [{\"POS\":{\"IN\": [\"NOUN\", \"ADV\", \"ADJ\", \"VERB\", \"ADP\"]}},\n",
    "           {\"IS_ASCII\": True, \"IS_PUNCT\": False},\n",
    "           {\"IS_ASCII\": True, \"IS_PUNCT\": False},\n",
    "           {\"POS\":{\"IN\": [\"VERB\", \"NOUN\", \"ADV\", \"ADJ\"]}},\n",
    "           {\"POS\":{\"IN\": [\"VERB\", \"NOUN\", \"CONJ\", \"ADJ\"]}}]\n",
    "match5words.add(\"5words\", [pattern])\n",
    "\n",
    "# find and store matches\n",
    "doc = nlp(texts)\n",
    "match2words = match2words(doc)\n",
    "match3words = match3words(doc)\n",
    "match4words = match4words(doc)\n",
    "match4words = match5words(doc)"
   ]
  },
  {
   "cell_type": "code",
   "execution_count": 39,
   "id": "face51dc",
   "metadata": {},
   "outputs": [],
   "source": [
    "# filter the dataset to only keep text that fits the defined patterns\n",
    "five_syll = []\n",
    "seven_syll = []\n",
    "\n",
    "for match_id, start, end in match2words + match3words + match4words:\n",
    "    string_id = nlp.vocab.strings[match_id]\n",
    "    span = doc[start:end]\n",
    "    syllable_count = 0\n",
    "    for token in span:\n",
    "        syllable_count += syllapy.count(token.text)\n",
    "\n",
    "    if syllable_count == 5:\n",
    "        if span.text not in five_syll:\n",
    "            five_syll.append(span.text)\n",
    "    if syllable_count == 7:\n",
    "        if span.text not in seven_syll:\n",
    "            seven_syll.append(span.text)"
   ]
  },
  {
   "cell_type": "code",
   "execution_count": 58,
   "id": "7c5ec592",
   "metadata": {},
   "outputs": [
    {
     "name": "stdout",
     "output_type": "stream",
     "text": [
      "huge satellite dish\n",
      "little brother is all right\n",
      "cut off their life force\n"
     ]
    }
   ],
   "source": [
    "print(random.choice(five_syll) + '\\n' + random.choice(seven_syll) + '\\n' + random.choice(five_syll))"
   ]
  },
  {
   "cell_type": "code",
   "execution_count": null,
   "id": "b9866152",
   "metadata": {},
   "outputs": [],
   "source": []
  }
 ],
 "metadata": {
  "kernelspec": {
   "display_name": "southpartvenv",
   "language": "python",
   "name": "southpartvenv"
  },
  "language_info": {
   "codemirror_mode": {
    "name": "ipython",
    "version": 3
   },
   "file_extension": ".py",
   "mimetype": "text/x-python",
   "name": "python",
   "nbconvert_exporter": "python",
   "pygments_lexer": "ipython3",
   "version": "3.8.0"
  }
 },
 "nbformat": 4,
 "nbformat_minor": 5
}
